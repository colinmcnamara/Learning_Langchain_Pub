{
  "nbformat": 4,
  "nbformat_minor": 0,
  "metadata": {
    "colab": {
      "provenance": [],
      "authorship_tag": "ABX9TyPhSQBVKlC9f3QHSjmKuKy5",
      "include_colab_link": true
    },
    "kernelspec": {
      "name": "python3",
      "display_name": "Python 3"
    },
    "language_info": {
      "name": "python"
    }
  },
  "cells": [
    {
      "cell_type": "markdown",
      "metadata": {
        "id": "view-in-github",
        "colab_type": "text"
      },
      "source": [
        "<a href=\"https://colab.research.google.com/github/colinmcnamara/Learning_Langchain_Pub/blob/main/Google_colab_and_langsmith_base_template.ipynb\" target=\"_parent\"><img src=\"https://colab.research.google.com/assets/colab-badge.svg\" alt=\"Open In Colab\"/></a>"
      ]
    },
    {
      "cell_type": "markdown",
      "source": [],
      "metadata": {
        "id": "uoFXS7T04a0S"
      }
    },
    {
      "cell_type": "code",
      "source": [
        "!pip -q install langchain openai tiktoken\n"
      ],
      "metadata": {
        "id": "G_oFopNDjhF7"
      },
      "execution_count": null,
      "outputs": []
    },
    {
      "cell_type": "markdown",
      "metadata": {
        "id": "bf4061ce"
      },
      "source": [
        "# Connect to colab_env providing your keys"
      ]
    },
    {
      "cell_type": "markdown",
      "source": [
        "# Create a vars.env file in the root of your google drive"
      ],
      "metadata": {
        "id": "yR0tTOD58vu3"
      }
    },
    {
      "cell_type": "markdown",
      "source": [
        "# example vars.env\n",
        "COLAB_ENV = Active\n",
        "export OPENAI_API_KEY = \"\"\n",
        "export SERPAPI_API_KEY = \"\"\n",
        "export PINECONE_API_KEY = \"\"\n",
        "export PINECONE_ENV = \"us-east1-gcp\"\n",
        "export GOOGLE_CSE_ID = \"\"\n",
        "export HUGGINGFACEHUB_API_TOKEN = \"\"\n",
        "export COHERE_API_KEY = \"\"\n",
        "export GOOGLE_API_KEY = \"\"\n",
        "export LANGCHAIN_TRACING_V2=true\n",
        "export LANGCHAIN_ENDPOINT=\"https://api.smith.langchain.com\"\n",
        "export LANGCHAIN_API_KEY=\"\"\n",
        "#export LANGCHAIN_PROJECT=\"default_project\"\n"
      ],
      "metadata": {
        "id": "-fDUT05Y8z6j"
      }
    },
    {
      "cell_type": "code",
      "source": [
        "!pip install -q colab_env"
      ],
      "metadata": {
        "id": "aBNVEix8j8XI"
      },
      "execution_count": null,
      "outputs": []
    },
    {
      "cell_type": "code",
      "source": [
        "import colab_env\n",
        "import langchain\n",
        "import openai\n",
        "import os"
      ],
      "metadata": {
        "id": "66jDgf-rXmvk"
      },
      "execution_count": null,
      "outputs": []
    },
    {
      "cell_type": "code",
      "source": [
        "openai_api_key=os.environ['OPENAI_API_KEY']"
      ],
      "metadata": {
        "id": "8WsfvyC1YC96"
      },
      "execution_count": null,
      "outputs": []
    },
    {
      "cell_type": "markdown",
      "source": [
        "# Connect to LangSmith"
      ],
      "metadata": {
        "id": "3fsO7V1v4uIk"
      }
    },
    {
      "cell_type": "code",
      "source": [
        "# Connect to langsmith\n",
        "# Connect this notebook to langsmith\n",
        "\n",
        "import os\n",
        "\n",
        "# connect notebook to langsmith\n",
        "os.environ['LANGCHAIN_TRACING_V2'] = 'true'\n",
        "os.environ['LANGCHAIN_ENDPOINT'] = 'https://api.smith.langchain.com'\n",
        "\n",
        "# This key is sourced from vars.env\n",
        "# os.environ['LANGCHAIN_API_KEY'] = '<your-api-key>'  # Uncomment and replace <your-api-key> with your actual API key\n",
        "\n",
        "os.environ['LANGCHAIN_PROJECT'] = 'constitutional-ai-0x1'\n",
        "\n",
        "# To verify, you can print the variables\n",
        "print(os.environ.get('LANGCHAIN_TRACING_V2'))\n",
        "print(os.environ.get('LANGCHAIN_ENDPOINT'))\n",
        "#print(os.environ.get('LANGCHAIN_API_KEY'))  # Uncomment if you want to print your API key (be careful with sharing your notebook)\n",
        "print(os.environ.get('LANGCHAIN_PROJECT'))\n"
      ],
      "metadata": {
        "id": "_Te-jO7K6gZr"
      },
      "execution_count": null,
      "outputs": []
    },
    {
      "cell_type": "code",
      "source": [],
      "metadata": {
        "id": "Cs613IZs8k-J"
      },
      "execution_count": null,
      "outputs": []
    }
  ]
}